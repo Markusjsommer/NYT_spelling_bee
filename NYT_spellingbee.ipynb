{
 "cells": [
  {
   "cell_type": "code",
   "execution_count": 19,
   "metadata": {},
   "outputs": [],
   "source": [
    "import os\n",
    "import nltk\n",
    "import numpy as np\n",
    "from nltk.corpus import words"
   ]
  },
  {
   "cell_type": "code",
   "execution_count": 20,
   "metadata": {},
   "outputs": [
    {
     "name": "stderr",
     "output_type": "stream",
     "text": [
      "[nltk_data] Downloading package words to /home/markus/nltk_data...\n",
      "[nltk_data]   Package words is already up-to-date!\n"
     ]
    },
    {
     "data": {
      "text/plain": [
       "True"
      ]
     },
     "execution_count": 20,
     "metadata": {},
     "output_type": "execute_result"
    }
   ],
   "source": [
    "nltk.download('words')"
   ]
  },
  {
   "cell_type": "code",
   "execution_count": 21,
   "metadata": {},
   "outputs": [],
   "source": [
    "word_list = words.words()"
   ]
  },
  {
   "cell_type": "code",
   "execution_count": 22,
   "metadata": {},
   "outputs": [],
   "source": [
    "w = 'CTYNAIV'\n",
    "letters = [x for x in w.lower()]"
   ]
  },
  {
   "cell_type": "code",
   "execution_count": 23,
   "metadata": {},
   "outputs": [],
   "source": [
    "valid = []\n",
    "for w in word_list:\n",
    "    try:\n",
    "        if len(w) < 4:\n",
    "            raise 'invalid'\n",
    "        if not letters[0] in w.lower():\n",
    "            raise 'invalid'\n",
    "        for l in w:\n",
    "            if not l.lower() in letters:\n",
    "                raise 'invalid'\n",
    "    except:\n",
    "        continue\n",
    "    valid.append(w)"
   ]
  },
  {
   "cell_type": "code",
   "execution_count": 24,
   "metadata": {},
   "outputs": [],
   "source": [
    "lengths = np.flip(np.argsort(np.asarray([len(w) for w in valid]).astype(int)))"
   ]
  },
  {
   "cell_type": "code",
   "execution_count": 25,
   "metadata": {},
   "outputs": [],
   "source": [
    "big = np.asarray(valid)[lengths]"
   ]
  },
  {
   "cell_type": "code",
   "execution_count": 26,
   "metadata": {},
   "outputs": [],
   "source": [
    "folder = '/scratch0/markus/spellingbee/data'\n",
    "path = os.path.join(folder, '1' + '.txt')\n",
    "\n",
    "with open(path, 'w') as f:\n",
    "    for w in big:\n",
    "        f.writelines(str(w) + '\\n')"
   ]
  },
  {
   "cell_type": "code",
   "execution_count": 27,
   "metadata": {},
   "outputs": [
    {
     "data": {
      "text/plain": [
       "array(['Cincinnatian', 'Cincinnatia', 'Cincinnati', 'Canaanitic',\n",
       "       'vaticinant', 'inactivity', 'anticivic', 'nictitant', 'tannaitic',\n",
       "       'titanitic', 'inactinic', 'tactician', 'anticynic', 'vaticanic',\n",
       "       'vaccinia', 'cavatina', 'Cainitic', 'vivacity', 'actinian',\n",
       "       'vicinity', 'vicianin', 'incitant', 'activity', 'caninity',\n",
       "       'Titianic', 'incivic', 'activin', 'actinic', 'Niantic', 'Actinia',\n",
       "       'atactic', 'Tacanan', 'aviatic', 'titanic', 'vaccina', 'Civitan',\n",
       "       'Acacian', 'Tanitic', 'acaciin', 'viatica', 'tannaic', 'Cataian',\n",
       "       'Vatican', 'cantata', 'Titanic', 'Cainian', 'vacancy', 'cantina',\n",
       "       'cantic', 'Cacana', 'avitic', 'cancan', 'caviya', 'cavity',\n",
       "       'Cavina', 'Canaan', 'Acacia', 'intact', 'Natica', 'acinic',\n",
       "       'tanica', 'tactic', 'Actian', 'vacant', 'Tacana', 'Vannic',\n",
       "       'niacin', 'tannic', 'acacin', 'Incaic', 'viatic', 'cyanin',\n",
       "       'cyanic', 'atavic', 'cnicin', 'acana', 'Attic', 'actin', 'cacti',\n",
       "       'attic', 'Cacan', 'canna', 'antic', 'Canna', 'yacca', 'canny',\n",
       "       'civic', 'vinic', 'Vicia', 'vatic', 'tinct', 'ticca', 'tacit',\n",
       "       'Tacca', 'nancy', 'Nancy', 'Incan', 'ictic', 'icica', 'civvy',\n",
       "       'cynic', 'cinct', 'Catty', 'canty', 'catan', 'Cavia', 'catty',\n",
       "       'Catti', 'cany', 'Cana', 'acca', 'acta', 'tact', 'city', 'cavy',\n",
       "       'Nici', 'Cain', 'cava', 'Inca', 'Caca', 'cant', 'cyan', 'cain'],\n",
       "      dtype='<U12')"
      ]
     },
     "execution_count": 27,
     "metadata": {},
     "output_type": "execute_result"
    }
   ],
   "source": [
    "big"
   ]
  },
  {
   "cell_type": "code",
   "execution_count": null,
   "metadata": {},
   "outputs": [],
   "source": []
  }
 ],
 "metadata": {
  "kernelspec": {
   "display_name": "Python 3",
   "language": "python",
   "name": "python3"
  },
  "language_info": {
   "codemirror_mode": {
    "name": "ipython",
    "version": 3
   },
   "file_extension": ".py",
   "mimetype": "text/x-python",
   "name": "python",
   "nbconvert_exporter": "python",
   "pygments_lexer": "ipython3",
   "version": "3.6.8"
  }
 },
 "nbformat": 4,
 "nbformat_minor": 2
}
